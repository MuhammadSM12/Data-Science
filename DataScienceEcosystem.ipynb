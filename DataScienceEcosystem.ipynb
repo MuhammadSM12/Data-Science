{
 "cells": [
  {
   "cell_type": "markdown",
   "id": "76477403-e61b-47b5-8650-15055057830c",
   "metadata": {},
   "source": [
    "# Data Science Tools and Ecosystem"
   ]
  },
  {
   "cell_type": "markdown",
   "id": "4843b10b-3041-4049-aff8-71dbbaa7d5f3",
   "metadata": {},
   "source": [
    "In this notebook, Data Science Tools and Ecosystem are summarized."
   ]
  },
  {
   "cell_type": "markdown",
   "id": "18090507-a261-45d8-942c-20456e83dce0",
   "metadata": {},
   "source": [
    "Some of the popular languages that Data Scientists use are:\n",
    "1. Python\n",
    "2. SQL\n",
    "3. R\n",
    "Some of the commonly used libraries used by Data Scientists include:\n",
    "1. Pandas\n",
    "2. Matplotlib\n",
    "3. NumPy"
   ]
  },
  {
   "cell_type": "markdown",
   "id": "1b463098-e0dc-46de-bd49-91469625a4fe",
   "metadata": {},
   "source": [
    "__Objectives:__\n",
    "* List popular languages for Data Science\n",
    "* Create Table in Markdown\n",
    "* Using Arithmetic Expressions"
   ]
  },
  {
   "cell_type": "markdown",
   "id": "a2cb3218-8b6f-40c4-8079-a76cc7d507ba",
   "metadata": {},
   "source": [
    "|Data Science Tools|\n",
    "---\n",
    "Hadoop\n",
    "Spark\n",
    "Rstudio"
   ]
  },
  {
   "cell_type": "markdown",
   "id": "9c63f2ed-6583-47f1-bc30-9d77abcd0c89",
   "metadata": {},
   "source": [
    "### Below are a few examples of evaluating arithmetic expressions in Python"
   ]
  },
  {
   "cell_type": "code",
   "execution_count": 2,
   "id": "7f4d0d6e-242e-49b9-9f9d-240fec753bad",
   "metadata": {
    "tags": []
   },
   "outputs": [
    {
     "data": {
      "text/plain": [
       "17"
      ]
     },
     "execution_count": 2,
     "metadata": {},
     "output_type": "execute_result"
    }
   ],
   "source": [
    "(3*4)+5\n",
    "#This a simple arithmetic expression to mutiply then add integers"
   ]
  },
  {
   "cell_type": "code",
   "execution_count": 4,
   "id": "6bbabecb-259d-44c7-8372-915035796bfb",
   "metadata": {
    "tags": []
   },
   "outputs": [
    {
     "name": "stdout",
     "output_type": "stream",
     "text": [
      "3.3333333333333335 hours\n"
     ]
    }
   ],
   "source": [
    "#This will convert 200 minutes to hours by diving by 60\n",
    "x= 200\n",
    "y= x/60\n",
    "print (y,\"hours\")"
   ]
  },
  {
   "cell_type": "markdown",
   "id": "0044b2ee-3fd9-43ab-a8b6-89be4da6d69c",
   "metadata": {},
   "source": [
    "## Author\n",
    "Muhammad"
   ]
  },
  {
   "cell_type": "code",
   "execution_count": null,
   "id": "ca915930-0b23-46a2-a0d2-2e6a6577fcf1",
   "metadata": {},
   "outputs": [],
   "source": []
  }
 ],
 "metadata": {
  "kernelspec": {
   "display_name": "Python",
   "language": "python",
   "name": "conda-env-python-py"
  },
  "language_info": {
   "codemirror_mode": {
    "name": "ipython",
    "version": 3
   },
   "file_extension": ".py",
   "mimetype": "text/x-python",
   "name": "python",
   "nbconvert_exporter": "python",
   "pygments_lexer": "ipython3",
   "version": "3.7.12"
  }
 },
 "nbformat": 4,
 "nbformat_minor": 5
}
